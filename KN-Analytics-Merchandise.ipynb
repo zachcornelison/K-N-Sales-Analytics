{
 "cells": [
  {
   "cell_type": "code",
   "execution_count": 1,
   "metadata": {},
   "outputs": [],
   "source": [
    "#imports\n",
    "import pandas as pd\n",
    "%matplotlib inline \n",
    "import matplotlib.pyplot as plt\n",
    "from matplotlib import dates as mpl_dates\n",
    "from matplotlib.pyplot import figure\n",
    "import numpy as np\n",
    "import seaborn as sns\n",
    "from pandas.plotting import register_matplotlib_converters\n",
    "register_matplotlib_converters()\n",
    "import calendar"
   ]
  },
  {
   "cell_type": "code",
   "execution_count": 2,
   "metadata": {},
   "outputs": [],
   "source": [
    "df_merchandise = pd.read_excel('Merchandise.xlsx', index_col=\"ProductID\")"
   ]
  },
  {
   "cell_type": "markdown",
   "metadata": {},
   "source": [
    "## Data Preprocessing & Analysis"
   ]
  },
  {
   "cell_type": "code",
   "execution_count": 3,
   "metadata": {},
   "outputs": [
    {
     "data": {
      "text/html": [
       "<div>\n",
       "<style scoped>\n",
       "    .dataframe tbody tr th:only-of-type {\n",
       "        vertical-align: middle;\n",
       "    }\n",
       "\n",
       "    .dataframe tbody tr th {\n",
       "        vertical-align: top;\n",
       "    }\n",
       "\n",
       "    .dataframe thead th {\n",
       "        text-align: right;\n",
       "    }\n",
       "</style>\n",
       "<table border=\"1\" class=\"dataframe\">\n",
       "  <thead>\n",
       "    <tr style=\"text-align: right;\">\n",
       "      <th></th>\n",
       "      <th>ProductType</th>\n",
       "      <th>ProductColor</th>\n",
       "      <th>ProductSize</th>\n",
       "      <th>ProductDescription</th>\n",
       "      <th>OrigPrice</th>\n",
       "      <th>Price</th>\n",
       "      <th>EnterDate</th>\n",
       "      <th>TransferDate</th>\n",
       "      <th>TransferPrice</th>\n",
       "      <th>TransferInd</th>\n",
       "      <th>...</th>\n",
       "      <th>ListOnline</th>\n",
       "      <th>CustNo</th>\n",
       "      <th>FixSplit</th>\n",
       "      <th>TaxRate</th>\n",
       "      <th>PhyDate</th>\n",
       "      <th>Auction2</th>\n",
       "      <th>ConCode</th>\n",
       "      <th>BuyOut</th>\n",
       "      <th>CardFee</th>\n",
       "      <th>Reminded</th>\n",
       "    </tr>\n",
       "    <tr>\n",
       "      <th>ProductID</th>\n",
       "      <th></th>\n",
       "      <th></th>\n",
       "      <th></th>\n",
       "      <th></th>\n",
       "      <th></th>\n",
       "      <th></th>\n",
       "      <th></th>\n",
       "      <th></th>\n",
       "      <th></th>\n",
       "      <th></th>\n",
       "      <th></th>\n",
       "      <th></th>\n",
       "      <th></th>\n",
       "      <th></th>\n",
       "      <th></th>\n",
       "      <th></th>\n",
       "      <th></th>\n",
       "      <th></th>\n",
       "      <th></th>\n",
       "      <th></th>\n",
       "      <th></th>\n",
       "    </tr>\n",
       "  </thead>\n",
       "  <tbody>\n",
       "    <tr>\n",
       "      <th>-2</th>\n",
       "      <td>None</td>\n",
       "      <td>None</td>\n",
       "      <td>None</td>\n",
       "      <td>Lamp</td>\n",
       "      <td>147.60</td>\n",
       "      <td>147.60</td>\n",
       "      <td>2018-08-18</td>\n",
       "      <td>2018-08-18</td>\n",
       "      <td>147.60</td>\n",
       "      <td>Sold</td>\n",
       "      <td>...</td>\n",
       "      <td>False</td>\n",
       "      <td>NaN</td>\n",
       "      <td>False</td>\n",
       "      <td>NaN</td>\n",
       "      <td>NaN</td>\n",
       "      <td>NaN</td>\n",
       "      <td>NaN</td>\n",
       "      <td>False</td>\n",
       "      <td>0.0</td>\n",
       "      <td>False</td>\n",
       "    </tr>\n",
       "    <tr>\n",
       "      <th>-1</th>\n",
       "      <td>None</td>\n",
       "      <td>None</td>\n",
       "      <td>None</td>\n",
       "      <td>Wrought Iron W. 5 Chairs</td>\n",
       "      <td>124.75</td>\n",
       "      <td>124.75</td>\n",
       "      <td>2018-07-03</td>\n",
       "      <td>2018-07-03</td>\n",
       "      <td>124.75</td>\n",
       "      <td>Sold</td>\n",
       "      <td>...</td>\n",
       "      <td>False</td>\n",
       "      <td>NaN</td>\n",
       "      <td>False</td>\n",
       "      <td>NaN</td>\n",
       "      <td>NaN</td>\n",
       "      <td>NaN</td>\n",
       "      <td>NaN</td>\n",
       "      <td>False</td>\n",
       "      <td>0.0</td>\n",
       "      <td>False</td>\n",
       "    </tr>\n",
       "    <tr>\n",
       "      <th>0</th>\n",
       "      <td>filler</td>\n",
       "      <td>filler</td>\n",
       "      <td>filler</td>\n",
       "      <td>filler</td>\n",
       "      <td>NaN</td>\n",
       "      <td>0.00</td>\n",
       "      <td>1999-12-31</td>\n",
       "      <td>2018-04-14</td>\n",
       "      <td>68.00</td>\n",
       "      <td>Sold</td>\n",
       "      <td>...</td>\n",
       "      <td>False</td>\n",
       "      <td>NaN</td>\n",
       "      <td>False</td>\n",
       "      <td>NaN</td>\n",
       "      <td>NaN</td>\n",
       "      <td>NaN</td>\n",
       "      <td>NaN</td>\n",
       "      <td>False</td>\n",
       "      <td>0.0</td>\n",
       "      <td>False</td>\n",
       "    </tr>\n",
       "    <tr>\n",
       "      <th>1</th>\n",
       "      <td>None</td>\n",
       "      <td>None</td>\n",
       "      <td>None</td>\n",
       "      <td>Candle Holder</td>\n",
       "      <td>2.00</td>\n",
       "      <td>2.00</td>\n",
       "      <td>2020-05-20</td>\n",
       "      <td>2020-05-20</td>\n",
       "      <td>2.00</td>\n",
       "      <td>Sold</td>\n",
       "      <td>...</td>\n",
       "      <td>False</td>\n",
       "      <td>NaN</td>\n",
       "      <td>False</td>\n",
       "      <td>NaN</td>\n",
       "      <td>NaN</td>\n",
       "      <td>NaN</td>\n",
       "      <td>NaN</td>\n",
       "      <td>False</td>\n",
       "      <td>0.0</td>\n",
       "      <td>False</td>\n",
       "    </tr>\n",
       "    <tr>\n",
       "      <th>2</th>\n",
       "      <td>None</td>\n",
       "      <td>None</td>\n",
       "      <td>None</td>\n",
       "      <td>Colum</td>\n",
       "      <td>49.50</td>\n",
       "      <td>49.50</td>\n",
       "      <td>2020-07-18</td>\n",
       "      <td>2020-07-18</td>\n",
       "      <td>49.50</td>\n",
       "      <td>Sold</td>\n",
       "      <td>...</td>\n",
       "      <td>False</td>\n",
       "      <td>NaN</td>\n",
       "      <td>False</td>\n",
       "      <td>NaN</td>\n",
       "      <td>NaN</td>\n",
       "      <td>NaN</td>\n",
       "      <td>NaN</td>\n",
       "      <td>False</td>\n",
       "      <td>0.0</td>\n",
       "      <td>False</td>\n",
       "    </tr>\n",
       "  </tbody>\n",
       "</table>\n",
       "<p>5 rows × 50 columns</p>\n",
       "</div>"
      ],
      "text/plain": [
       "          ProductType ProductColor ProductSize        ProductDescription  \\\n",
       "ProductID                                                                  \n",
       "-2               None         None        None                      Lamp   \n",
       "-1               None         None        None  Wrought Iron W. 5 Chairs   \n",
       " 0             filler       filler      filler                    filler   \n",
       " 1               None         None        None             Candle Holder   \n",
       " 2               None         None        None                     Colum   \n",
       "\n",
       "           OrigPrice   Price  EnterDate TransferDate  TransferPrice  \\\n",
       "ProductID                                                             \n",
       "-2            147.60  147.60 2018-08-18   2018-08-18         147.60   \n",
       "-1            124.75  124.75 2018-07-03   2018-07-03         124.75   \n",
       " 0               NaN    0.00 1999-12-31   2018-04-14          68.00   \n",
       " 1              2.00    2.00 2020-05-20   2020-05-20           2.00   \n",
       " 2             49.50   49.50 2020-07-18   2020-07-18          49.50   \n",
       "\n",
       "          TransferInd  ... ListOnline  CustNo  FixSplit  TaxRate  PhyDate  \\\n",
       "ProductID              ...                                                  \n",
       "-2               Sold  ...      False     NaN     False      NaN      NaN   \n",
       "-1               Sold  ...      False     NaN     False      NaN      NaN   \n",
       " 0               Sold  ...      False     NaN     False      NaN      NaN   \n",
       " 1               Sold  ...      False     NaN     False      NaN      NaN   \n",
       " 2               Sold  ...      False     NaN     False      NaN      NaN   \n",
       "\n",
       "          Auction2 ConCode BuyOut  CardFee  Reminded  \n",
       "ProductID                                             \n",
       "-2             NaN     NaN  False      0.0     False  \n",
       "-1             NaN     NaN  False      0.0     False  \n",
       " 0             NaN     NaN  False      0.0     False  \n",
       " 1             NaN     NaN  False      0.0     False  \n",
       " 2             NaN     NaN  False      0.0     False  \n",
       "\n",
       "[5 rows x 50 columns]"
      ]
     },
     "execution_count": 3,
     "metadata": {},
     "output_type": "execute_result"
    }
   ],
   "source": [
    "df_merchandise.head()"
   ]
  },
  {
   "cell_type": "code",
   "execution_count": 4,
   "metadata": {},
   "outputs": [
    {
     "data": {
      "text/plain": [
       "(15308, 50)"
      ]
     },
     "execution_count": 4,
     "metadata": {},
     "output_type": "execute_result"
    }
   ],
   "source": [
    "df_merchandise.shape"
   ]
  },
  {
   "cell_type": "code",
   "execution_count": 5,
   "metadata": {},
   "outputs": [
    {
     "data": {
      "text/plain": [
       "ProductType           15308\n",
       "ProductColor          15308\n",
       "ProductSize           15308\n",
       "ProductDescription    15308\n",
       "OrigPrice             15307\n",
       "Price                 15308\n",
       "EnterDate             15308\n",
       "TransferDate          10923\n",
       "TransferPrice         15308\n",
       "TransferInd           15308\n",
       "TransferBy            15308\n",
       "CustomerID            15308\n",
       "ReqPrice              15308\n",
       "InvoiceNumber         10906\n",
       "Return                15308\n",
       "MarkdownDate1          9976\n",
       "MarkdownDate2          8497\n",
       "MarkdownDate3          6976\n",
       "LabelPrinted          15308\n",
       "MercCut               15307\n",
       "DownPymt              15308\n",
       "DownWho                   0\n",
       "DownDate                  0\n",
       "ItemCount             15308\n",
       "Date1                     0\n",
       "Text1                   395\n",
       "Num1                  15308\n",
       "ExpireDate            15308\n",
       "LayawayGrp                0\n",
       "PCName                14925\n",
       "DontPrintTag          15308\n",
       "ItemNotes                 0\n",
       "WholesalePrice        15308\n",
       "BuyersFee             15308\n",
       "DownPhone                 0\n",
       "ResaleNow             15308\n",
       "PreviousOwner             0\n",
       "AuctionID                 0\n",
       "Taxable               14925\n",
       "NeverMD               14925\n",
       "ListOnline            15308\n",
       "CustNo                    0\n",
       "FixSplit              15308\n",
       "TaxRate               14925\n",
       "PhyDate                   0\n",
       "Auction2                  0\n",
       "ConCode                   0\n",
       "BuyOut                15308\n",
       "CardFee               10906\n",
       "Reminded              15308\n",
       "dtype: int64"
      ]
     },
     "execution_count": 5,
     "metadata": {},
     "output_type": "execute_result"
    }
   ],
   "source": [
    "df_merchandise.count()"
   ]
  },
  {
   "cell_type": "code",
   "execution_count": 6,
   "metadata": {},
   "outputs": [
    {
     "data": {
      "text/plain": [
       "array([0])"
      ]
     },
     "execution_count": 6,
     "metadata": {},
     "output_type": "execute_result"
    }
   ],
   "source": [
    "df_merchandise['DownPymt'].unique()\n",
    "# will drop"
   ]
  },
  {
   "cell_type": "code",
   "execution_count": 7,
   "metadata": {},
   "outputs": [
    {
     "data": {
      "text/plain": [
       "array([0])"
      ]
     },
     "execution_count": 7,
     "metadata": {},
     "output_type": "execute_result"
    }
   ],
   "source": [
    "df_merchandise['Num1'].unique()\n",
    "# will drop"
   ]
  },
  {
   "cell_type": "code",
   "execution_count": 8,
   "metadata": {},
   "outputs": [
    {
     "data": {
      "text/plain": [
       "array([nan, 'Y', 'N'], dtype=object)"
      ]
     },
     "execution_count": 8,
     "metadata": {},
     "output_type": "execute_result"
    }
   ],
   "source": [
    "df_merchandise['Taxable'].unique()"
   ]
  },
  {
   "cell_type": "code",
   "execution_count": 9,
   "metadata": {},
   "outputs": [
    {
     "data": {
      "text/plain": [
       "Y    14910\n",
       "N       15\n",
       "Name: Taxable, dtype: int64"
      ]
     },
     "execution_count": 9,
     "metadata": {},
     "output_type": "execute_result"
    }
   ],
   "source": [
    "df_merchandise['Taxable'].value_counts()\n",
    "# will drop"
   ]
  },
  {
   "cell_type": "code",
   "execution_count": 10,
   "metadata": {},
   "outputs": [
    {
     "data": {
      "text/plain": [
       "array([nan, 'Y', 'N'], dtype=object)"
      ]
     },
     "execution_count": 10,
     "metadata": {},
     "output_type": "execute_result"
    }
   ],
   "source": [
    "df_merchandise['NeverMD'].unique()"
   ]
  },
  {
   "cell_type": "code",
   "execution_count": 11,
   "metadata": {},
   "outputs": [
    {
     "data": {
      "text/plain": [
       "N    13159\n",
       "Y     1766\n",
       "Name: NeverMD, dtype: int64"
      ]
     },
     "execution_count": 11,
     "metadata": {},
     "output_type": "execute_result"
    }
   ],
   "source": [
    "df_merchandise['NeverMD'].value_counts()\n",
    "# will drop, unable to find documentation for this column description"
   ]
  },
  {
   "cell_type": "code",
   "execution_count": 12,
   "metadata": {},
   "outputs": [
    {
     "data": {
      "text/plain": [
       "array([nan,  0.])"
      ]
     },
     "execution_count": 12,
     "metadata": {},
     "output_type": "execute_result"
    }
   ],
   "source": [
    "df_merchandise['TaxRate'].unique()\n",
    "# will drop, these values will be worthless"
   ]
  },
  {
   "cell_type": "code",
   "execution_count": 13,
   "metadata": {},
   "outputs": [
    {
     "data": {
      "text/plain": [
       "array([ 0., nan])"
      ]
     },
     "execution_count": 13,
     "metadata": {},
     "output_type": "execute_result"
    }
   ],
   "source": [
    "df_merchandise['CardFee'].unique()\n",
    "# will drop, these values will be worthless"
   ]
  },
  {
   "cell_type": "code",
   "execution_count": 14,
   "metadata": {},
   "outputs": [],
   "source": [
    "# drop columns with no/many missing values and ones that are unnecessary\n",
    "df_merchandise = df_merchandise.drop(['DownWho','DownDate','Date1','Text1','LayawayGrp','ItemNotes','Num1',\n",
    "                                      'DownPhone','PreviousOwner','LabelPrinted','PCName','DontPrintTag',\n",
    "                                      'Taxable','WholesalePrice','AuctionID','CustNo','PhyDate','Auction2',\n",
    "                                      'DownPymt','ResaleNow','ListOnline','FixSplit','ConCode','NeverMD',\n",
    "                                      'BuyOut','TaxRate','Reminded','CardFee'], axis=1)"
   ]
  },
  {
   "cell_type": "code",
   "execution_count": 15,
   "metadata": {},
   "outputs": [
    {
     "data": {
      "text/html": [
       "<div>\n",
       "<style scoped>\n",
       "    .dataframe tbody tr th:only-of-type {\n",
       "        vertical-align: middle;\n",
       "    }\n",
       "\n",
       "    .dataframe tbody tr th {\n",
       "        vertical-align: top;\n",
       "    }\n",
       "\n",
       "    .dataframe thead th {\n",
       "        text-align: right;\n",
       "    }\n",
       "</style>\n",
       "<table border=\"1\" class=\"dataframe\">\n",
       "  <thead>\n",
       "    <tr style=\"text-align: right;\">\n",
       "      <th></th>\n",
       "      <th>ProductType</th>\n",
       "      <th>ProductColor</th>\n",
       "      <th>ProductSize</th>\n",
       "      <th>ProductDescription</th>\n",
       "      <th>OrigPrice</th>\n",
       "      <th>Price</th>\n",
       "      <th>EnterDate</th>\n",
       "      <th>TransferDate</th>\n",
       "      <th>TransferPrice</th>\n",
       "      <th>TransferInd</th>\n",
       "      <th>...</th>\n",
       "      <th>ReqPrice</th>\n",
       "      <th>InvoiceNumber</th>\n",
       "      <th>Return</th>\n",
       "      <th>MarkdownDate1</th>\n",
       "      <th>MarkdownDate2</th>\n",
       "      <th>MarkdownDate3</th>\n",
       "      <th>MercCut</th>\n",
       "      <th>ItemCount</th>\n",
       "      <th>ExpireDate</th>\n",
       "      <th>BuyersFee</th>\n",
       "    </tr>\n",
       "    <tr>\n",
       "      <th>ProductID</th>\n",
       "      <th></th>\n",
       "      <th></th>\n",
       "      <th></th>\n",
       "      <th></th>\n",
       "      <th></th>\n",
       "      <th></th>\n",
       "      <th></th>\n",
       "      <th></th>\n",
       "      <th></th>\n",
       "      <th></th>\n",
       "      <th></th>\n",
       "      <th></th>\n",
       "      <th></th>\n",
       "      <th></th>\n",
       "      <th></th>\n",
       "      <th></th>\n",
       "      <th></th>\n",
       "      <th></th>\n",
       "      <th></th>\n",
       "      <th></th>\n",
       "      <th></th>\n",
       "    </tr>\n",
       "  </thead>\n",
       "  <tbody>\n",
       "    <tr>\n",
       "      <th>-2</th>\n",
       "      <td>None</td>\n",
       "      <td>None</td>\n",
       "      <td>None</td>\n",
       "      <td>Lamp</td>\n",
       "      <td>147.60</td>\n",
       "      <td>147.60</td>\n",
       "      <td>2018-08-18</td>\n",
       "      <td>2018-08-18</td>\n",
       "      <td>147.60</td>\n",
       "      <td>Sold</td>\n",
       "      <td>...</td>\n",
       "      <td>0.0</td>\n",
       "      <td>8150.0</td>\n",
       "      <td>False</td>\n",
       "      <td>NaT</td>\n",
       "      <td>NaT</td>\n",
       "      <td>NaT</td>\n",
       "      <td>0.0</td>\n",
       "      <td>0</td>\n",
       "      <td>2018-11-16</td>\n",
       "      <td>0.0</td>\n",
       "    </tr>\n",
       "    <tr>\n",
       "      <th>-1</th>\n",
       "      <td>None</td>\n",
       "      <td>None</td>\n",
       "      <td>None</td>\n",
       "      <td>Wrought Iron W. 5 Chairs</td>\n",
       "      <td>124.75</td>\n",
       "      <td>124.75</td>\n",
       "      <td>2018-07-03</td>\n",
       "      <td>2018-07-03</td>\n",
       "      <td>124.75</td>\n",
       "      <td>Sold</td>\n",
       "      <td>...</td>\n",
       "      <td>0.0</td>\n",
       "      <td>7749.0</td>\n",
       "      <td>False</td>\n",
       "      <td>NaT</td>\n",
       "      <td>NaT</td>\n",
       "      <td>NaT</td>\n",
       "      <td>0.5</td>\n",
       "      <td>0</td>\n",
       "      <td>2018-10-01</td>\n",
       "      <td>0.0</td>\n",
       "    </tr>\n",
       "    <tr>\n",
       "      <th>1</th>\n",
       "      <td>None</td>\n",
       "      <td>None</td>\n",
       "      <td>None</td>\n",
       "      <td>Candle Holder</td>\n",
       "      <td>2.00</td>\n",
       "      <td>2.00</td>\n",
       "      <td>2020-05-20</td>\n",
       "      <td>2020-05-20</td>\n",
       "      <td>2.00</td>\n",
       "      <td>Sold</td>\n",
       "      <td>...</td>\n",
       "      <td>0.0</td>\n",
       "      <td>13211.0</td>\n",
       "      <td>False</td>\n",
       "      <td>NaT</td>\n",
       "      <td>NaT</td>\n",
       "      <td>NaT</td>\n",
       "      <td>0.0</td>\n",
       "      <td>0</td>\n",
       "      <td>2020-08-18</td>\n",
       "      <td>0.0</td>\n",
       "    </tr>\n",
       "    <tr>\n",
       "      <th>2</th>\n",
       "      <td>None</td>\n",
       "      <td>None</td>\n",
       "      <td>None</td>\n",
       "      <td>Colum</td>\n",
       "      <td>49.50</td>\n",
       "      <td>49.50</td>\n",
       "      <td>2020-07-18</td>\n",
       "      <td>2020-07-18</td>\n",
       "      <td>49.50</td>\n",
       "      <td>Sold</td>\n",
       "      <td>...</td>\n",
       "      <td>0.0</td>\n",
       "      <td>13842.0</td>\n",
       "      <td>False</td>\n",
       "      <td>NaT</td>\n",
       "      <td>NaT</td>\n",
       "      <td>NaT</td>\n",
       "      <td>0.5</td>\n",
       "      <td>0</td>\n",
       "      <td>2020-10-16</td>\n",
       "      <td>0.0</td>\n",
       "    </tr>\n",
       "    <tr>\n",
       "      <th>3</th>\n",
       "      <td>None</td>\n",
       "      <td>None</td>\n",
       "      <td>None</td>\n",
       "      <td>Credenza Lamp</td>\n",
       "      <td>71.10</td>\n",
       "      <td>71.10</td>\n",
       "      <td>2018-08-25</td>\n",
       "      <td>2018-08-25</td>\n",
       "      <td>71.10</td>\n",
       "      <td>Sold</td>\n",
       "      <td>...</td>\n",
       "      <td>0.0</td>\n",
       "      <td>8225.0</td>\n",
       "      <td>False</td>\n",
       "      <td>NaT</td>\n",
       "      <td>NaT</td>\n",
       "      <td>NaT</td>\n",
       "      <td>0.0</td>\n",
       "      <td>0</td>\n",
       "      <td>2018-11-23</td>\n",
       "      <td>0.0</td>\n",
       "    </tr>\n",
       "  </tbody>\n",
       "</table>\n",
       "<p>5 rows × 22 columns</p>\n",
       "</div>"
      ],
      "text/plain": [
       "          ProductType ProductColor ProductSize        ProductDescription  \\\n",
       "ProductID                                                                  \n",
       "-2               None         None        None                      Lamp   \n",
       "-1               None         None        None  Wrought Iron W. 5 Chairs   \n",
       " 1               None         None        None             Candle Holder   \n",
       " 2               None         None        None                     Colum   \n",
       " 3               None         None        None             Credenza Lamp   \n",
       "\n",
       "           OrigPrice   Price  EnterDate TransferDate  TransferPrice  \\\n",
       "ProductID                                                             \n",
       "-2            147.60  147.60 2018-08-18   2018-08-18         147.60   \n",
       "-1            124.75  124.75 2018-07-03   2018-07-03         124.75   \n",
       " 1              2.00    2.00 2020-05-20   2020-05-20           2.00   \n",
       " 2             49.50   49.50 2020-07-18   2020-07-18          49.50   \n",
       " 3             71.10   71.10 2018-08-25   2018-08-25          71.10   \n",
       "\n",
       "          TransferInd  ... ReqPrice  InvoiceNumber  Return  MarkdownDate1  \\\n",
       "ProductID              ...                                                  \n",
       "-2               Sold  ...      0.0         8150.0   False            NaT   \n",
       "-1               Sold  ...      0.0         7749.0   False            NaT   \n",
       " 1               Sold  ...      0.0        13211.0   False            NaT   \n",
       " 2               Sold  ...      0.0        13842.0   False            NaT   \n",
       " 3               Sold  ...      0.0         8225.0   False            NaT   \n",
       "\n",
       "           MarkdownDate2 MarkdownDate3 MercCut ItemCount  ExpireDate  \\\n",
       "ProductID                                                              \n",
       "-2                   NaT           NaT     0.0         0  2018-11-16   \n",
       "-1                   NaT           NaT     0.5         0  2018-10-01   \n",
       " 1                   NaT           NaT     0.0         0  2020-08-18   \n",
       " 2                   NaT           NaT     0.5         0  2020-10-16   \n",
       " 3                   NaT           NaT     0.0         0  2018-11-23   \n",
       "\n",
       "           BuyersFee  \n",
       "ProductID             \n",
       "-2               0.0  \n",
       "-1               0.0  \n",
       " 1               0.0  \n",
       " 2               0.0  \n",
       " 3               0.0  \n",
       "\n",
       "[5 rows x 22 columns]"
      ]
     },
     "execution_count": 15,
     "metadata": {},
     "output_type": "execute_result"
    }
   ],
   "source": [
    "# drop filler row\n",
    "df_merchandise = df_merchandise.drop([0])\n",
    "df_merchandise.head()"
   ]
  },
  {
   "cell_type": "code",
   "execution_count": 16,
   "metadata": {
    "scrolled": false
   },
   "outputs": [
    {
     "data": {
      "text/plain": [
       "ProductType                   object\n",
       "ProductColor                  object\n",
       "ProductSize                   object\n",
       "ProductDescription            object\n",
       "OrigPrice                    float64\n",
       "Price                        float64\n",
       "EnterDate             datetime64[ns]\n",
       "TransferDate          datetime64[ns]\n",
       "TransferPrice                float64\n",
       "TransferInd                   object\n",
       "TransferBy                    object\n",
       "CustomerID                     int64\n",
       "ReqPrice                     float64\n",
       "InvoiceNumber                float64\n",
       "Return                          bool\n",
       "MarkdownDate1         datetime64[ns]\n",
       "MarkdownDate2         datetime64[ns]\n",
       "MarkdownDate3         datetime64[ns]\n",
       "MercCut                      float64\n",
       "ItemCount                      int64\n",
       "ExpireDate            datetime64[ns]\n",
       "BuyersFee                    float64\n",
       "dtype: object"
      ]
     },
     "execution_count": 16,
     "metadata": {},
     "output_type": "execute_result"
    }
   ],
   "source": [
    "df_merchandise.dtypes"
   ]
  },
  {
   "cell_type": "code",
   "execution_count": 17,
   "metadata": {},
   "outputs": [
    {
     "data": {
      "text/plain": [
       "0.5    13255\n",
       "0.0     2052\n",
       "Name: MercCut, dtype: int64"
      ]
     },
     "execution_count": 17,
     "metadata": {},
     "output_type": "execute_result"
    }
   ],
   "source": [
    "# MercCut signifies 0.5 for items consigned (50/50 split), 0.0 for items the store purchased new\n",
    "df_merchandise.MercCut.value_counts()\n",
    "\n",
    "# 13,255 of the items have been consigned"
   ]
  },
  {
   "cell_type": "code",
   "execution_count": 18,
   "metadata": {},
   "outputs": [
    {
     "data": {
      "text/plain": [
       "dtype('int64')"
      ]
     },
     "execution_count": 18,
     "metadata": {},
     "output_type": "execute_result"
    }
   ],
   "source": [
    "# Convert invoice number to int from float\n",
    "df_merchandise.InvoiceNumber = df_merchandise.InvoiceNumber.fillna(0.0).astype(int)\n",
    "df_merchandise.InvoiceNumber.dtype"
   ]
  },
  {
   "cell_type": "code",
   "execution_count": 19,
   "metadata": {},
   "outputs": [
    {
     "data": {
      "text/plain": [
       "(15307, 22)"
      ]
     },
     "execution_count": 19,
     "metadata": {},
     "output_type": "execute_result"
    }
   ],
   "source": [
    "df_merchandise.shape"
   ]
  },
  {
   "cell_type": "code",
   "execution_count": 20,
   "metadata": {},
   "outputs": [
    {
     "data": {
      "text/plain": [
       "Accessory       5266\n",
       "Chair           1194\n",
       "Decor            655\n",
       "Table            402\n",
       "None             384\n",
       "Pillow           371\n",
       "Art              365\n",
       "Sofa             296\n",
       "Rug              293\n",
       "End Table        228\n",
       "Lamp             224\n",
       "Picture          221\n",
       "Desk             171\n",
       "Light            155\n",
       "Bed              140\n",
       "Barstool         124\n",
       "Mirror           113\n",
       "Coffee Table     111\n",
       "Chest            104\n",
       "Dining Table     104\n",
       "Console           99\n",
       "Name: ProductType, dtype: int64"
      ]
     },
     "execution_count": 20,
     "metadata": {},
     "output_type": "execute_result"
    }
   ],
   "source": [
    "# View top 21 selling items and their value counts\n",
    "df_merchandise['ProductType'].value_counts().head(21)"
   ]
  },
  {
   "cell_type": "code",
   "execution_count": 21,
   "metadata": {},
   "outputs": [
    {
     "data": {
      "text/plain": [
       "(1103,)"
      ]
     },
     "execution_count": 21,
     "metadata": {},
     "output_type": "execute_result"
    }
   ],
   "source": [
    "products = df_merchandise['ProductType'].value_counts()\n",
    "products[products < 10].shape\n",
    "# there are 1103 different entry labels for the Product Type column that occur 10 or less times \n",
    "# I will likely exclude these entries from the dataframe when analyzing products since cleaning 1000+ rows is\n",
    "# not feasible given the timeline of this project"
   ]
  },
  {
   "cell_type": "code",
   "execution_count": 22,
   "metadata": {},
   "outputs": [
    {
     "data": {
      "text/plain": [
       "(1191,)"
      ]
     },
     "execution_count": 22,
     "metadata": {},
     "output_type": "execute_result"
    }
   ],
   "source": [
    "products[products < 100].shape\n",
    "# Outside of the top 20 selling items listed in ProductType (#20 having 104 entries), there are 1191 different \n",
    "# entry labels for this category. Only the top 20 items for this category will be analyzed"
   ]
  },
  {
   "cell_type": "code",
   "execution_count": 23,
   "metadata": {},
   "outputs": [
    {
     "data": {
      "text/plain": [
       "Accessory       5266\n",
       "Chair           1194\n",
       "Decor            655\n",
       "Table            402\n",
       "None             384\n",
       "Pillow           371\n",
       "Art              365\n",
       "Sofa             296\n",
       "Rug              293\n",
       "End Table        228\n",
       "Lamp             224\n",
       "Picture          221\n",
       "Desk             171\n",
       "Light            155\n",
       "Bed              140\n",
       "Barstool         124\n",
       "Mirror           113\n",
       "Coffee Table     111\n",
       "Chest            104\n",
       "Dining Table     104\n",
       "Name: ProductType, dtype: int64"
      ]
     },
     "execution_count": 23,
     "metadata": {},
     "output_type": "execute_result"
    }
   ],
   "source": [
    "# Filter datframe for top 20 selling items from Product Type\n",
    "top20_items = df_merchandise[df_merchandise.groupby('ProductType')['ProductType'].transform('size') > 100]\n",
    "top20_items.ProductType.value_counts()"
   ]
  },
  {
   "cell_type": "code",
   "execution_count": 24,
   "metadata": {},
   "outputs": [
    {
     "data": {
      "text/plain": [
       "(4386, 22)"
      ]
     },
     "execution_count": 24,
     "metadata": {},
     "output_type": "execute_result"
    }
   ],
   "source": [
    "df_merchandise[df_merchandise.groupby('ProductType')['ProductType'].transform('size') < 100].shape\n",
    "# 4,386 rows will be excluded from top20 item analysis"
   ]
  },
  {
   "cell_type": "code",
   "execution_count": 25,
   "metadata": {},
   "outputs": [
    {
     "data": {
      "text/plain": [
       "(10921, 22)"
      ]
     },
     "execution_count": 25,
     "metadata": {},
     "output_type": "execute_result"
    }
   ],
   "source": [
    "top20_items.shape\n",
    "# Filtering by the top 20 items for Product Type changed our dataframe from 15,307 to 10,921 rows"
   ]
  },
  {
   "cell_type": "code",
   "execution_count": 26,
   "metadata": {
    "scrolled": false
   },
   "outputs": [
    {
     "data": {
      "text/plain": [
       "None        14779\n",
       "White          53\n",
       "Brown          44\n",
       "Black          29\n",
       "Ivory          25\n",
       "Flint          22\n",
       "Driftwoo       19\n",
       "Silver         17\n",
       "Linen          13\n",
       "Sapphire       12\n",
       "Wheat          12\n",
       "Seaglass       12\n",
       "Gold           11\n",
       "Blue           11\n",
       "Red            10\n",
       "Gray            9\n",
       "Wood            9\n",
       "Teal            9\n",
       "Navy            8\n",
       "Multi           8\n",
       "Name: ProductColor, dtype: int64"
      ]
     },
     "execution_count": 26,
     "metadata": {},
     "output_type": "execute_result"
    }
   ],
   "source": [
    "df_merchandise['ProductColor'].value_counts().head(20)"
   ]
  },
  {
   "cell_type": "markdown",
   "metadata": {},
   "source": [
    "Since there's only 528 entires where the Product Color is any description other than \"None\", I will remove this column from the dataset as it will not be useful for analysis. "
   ]
  },
  {
   "cell_type": "code",
   "execution_count": 27,
   "metadata": {},
   "outputs": [],
   "source": [
    "df_merchandise = df_merchandise.drop(['ProductColor'], axis=1)"
   ]
  },
  {
   "cell_type": "code",
   "execution_count": 28,
   "metadata": {},
   "outputs": [
    {
     "data": {
      "text/plain": [
       "None          14798\n",
       "Jubilee          94\n",
       "Park Avenu       39\n",
       "Queen            18\n",
       "Small            18\n",
       "Medium           17\n",
       "King             14\n",
       "Large            13\n",
       "Pomeroy          11\n",
       "53006225         10\n",
       "CM4550            8\n",
       "B446              8\n",
       "CM1700            8\n",
       "CM3500            8\n",
       "53005996          7\n",
       "CM3200            7\n",
       "9ft X 4ft         6\n",
       "Wood              6\n",
       "22x22             5\n",
       "53005413el        3\n",
       "Name: ProductSize, dtype: int64"
      ]
     },
     "execution_count": 28,
     "metadata": {},
     "output_type": "execute_result"
    }
   ],
   "source": [
    "df_merchandise['ProductSize'].value_counts().head(20)"
   ]
  },
  {
   "cell_type": "markdown",
   "metadata": {},
   "source": [
    "Only 509 of the rows contain useful information regarding Product Size (other than 'None), will drop this column"
   ]
  },
  {
   "cell_type": "code",
   "execution_count": 29,
   "metadata": {},
   "outputs": [],
   "source": [
    "df_merchandise = df_merchandise.drop(['ProductSize'], axis=1)"
   ]
  },
  {
   "cell_type": "code",
   "execution_count": 30,
   "metadata": {
    "scrolled": false
   },
   "outputs": [
    {
     "data": {
      "text/plain": [
       "Pillow          611\n",
       "Lamp            436\n",
       "Picture         347\n",
       "Art             315\n",
       "Chair           296\n",
       "Rug             228\n",
       "Mirror          216\n",
       "Vase            203\n",
       "Decor           202\n",
       "Chandelier      145\n",
       "Barstool        108\n",
       "Free             98\n",
       "Sofa             95\n",
       "Book             88\n",
       "Desk             87\n",
       "Nightstand       78\n",
       "Sidetable        69\n",
       "Plate            68\n",
       "Finial           65\n",
       "Office Chair     65\n",
       "Name: ProductDescription, dtype: int64"
      ]
     },
     "execution_count": 30,
     "metadata": {},
     "output_type": "execute_result"
    }
   ],
   "source": [
    "df_merchandise['ProductDescription'].value_counts().head(20)"
   ]
  },
  {
   "cell_type": "code",
   "execution_count": 31,
   "metadata": {},
   "outputs": [
    {
     "data": {
      "text/plain": [
       "(11487, 20)"
      ]
     },
     "execution_count": 31,
     "metadata": {},
     "output_type": "execute_result"
    }
   ],
   "source": [
    "#How many rows are there with a Product Description label that occurs less than 65 times (outside of top20 values)\n",
    "df_merchandise[df_merchandise.groupby('ProductDescription')['ProductDescription'].transform('size') < 65].shape"
   ]
  },
  {
   "cell_type": "markdown",
   "metadata": {},
   "source": [
    "There are too many rows to go through and clean for Product Description given the timeframe of this report. However, there are rows in which the value for 'ProductType' contains 'None', but has a relevant value for 'ProductDescription' that could replace the 'None' value. This will also be done for rows in which ProductType = 'Accessory' and ProductDescription = other categories already established in ProductType such as 'Table','Chair', etc."
   ]
  },
  {
   "cell_type": "markdown",
   "metadata": {},
   "source": [
    "## Need to clean ProductType column to narrow down the different values\n"
   ]
  },
  {
   "cell_type": "code",
   "execution_count": 32,
   "metadata": {},
   "outputs": [
    {
     "data": {
      "text/plain": [
       "Pillow             313\n",
       "Lamp               269\n",
       "Picture            226\n",
       "Art                220\n",
       "Vase               142\n",
       "Mirror             129\n",
       "Decor              118\n",
       "Rug                 80\n",
       "Free                72\n",
       "Chandelier          72\n",
       "Pewter Figurine     53\n",
       "Plate               46\n",
       "Painting            39\n",
       "Book                37\n",
       "Finial              36\n",
       "Name: ProductDescription, dtype: int64"
      ]
     },
     "execution_count": 32,
     "metadata": {},
     "output_type": "execute_result"
    }
   ],
   "source": [
    "accessories = df_merchandise[df_merchandise.ProductType == 'Accessory']\n",
    "accessories.ProductDescription.value_counts().head(15)"
   ]
  },
  {
   "cell_type": "code",
   "execution_count": 33,
   "metadata": {},
   "outputs": [
    {
     "data": {
      "text/plain": [
       "(371, 20)"
      ]
     },
     "execution_count": 33,
     "metadata": {},
     "output_type": "execute_result"
    }
   ],
   "source": [
    "df_merchandise[df_merchandise.ProductType == 'Pillow'].shape"
   ]
  },
  {
   "cell_type": "code",
   "execution_count": 34,
   "metadata": {},
   "outputs": [
    {
     "data": {
      "text/plain": [
       "(224, 20)"
      ]
     },
     "execution_count": 34,
     "metadata": {},
     "output_type": "execute_result"
    }
   ],
   "source": [
    "df_merchandise[df_merchandise.ProductType == 'Lamp'].shape"
   ]
  },
  {
   "cell_type": "code",
   "execution_count": 35,
   "metadata": {},
   "outputs": [
    {
     "data": {
      "text/plain": [
       "(221, 20)"
      ]
     },
     "execution_count": 35,
     "metadata": {},
     "output_type": "execute_result"
    }
   ],
   "source": [
    "df_merchandise[df_merchandise.ProductType == 'Picture'].shape"
   ]
  },
  {
   "cell_type": "code",
   "execution_count": 36,
   "metadata": {},
   "outputs": [
    {
     "data": {
      "text/plain": [
       "(365, 20)"
      ]
     },
     "execution_count": 36,
     "metadata": {},
     "output_type": "execute_result"
    }
   ],
   "source": [
    "df_merchandise[df_merchandise.ProductType == 'Art'].shape"
   ]
  },
  {
   "cell_type": "code",
   "execution_count": 37,
   "metadata": {},
   "outputs": [
    {
     "data": {
      "text/plain": [
       "(45, 20)"
      ]
     },
     "execution_count": 37,
     "metadata": {},
     "output_type": "execute_result"
    }
   ],
   "source": [
    "df_merchandise[df_merchandise.ProductType == 'Vase'].shape"
   ]
  },
  {
   "cell_type": "code",
   "execution_count": 38,
   "metadata": {},
   "outputs": [
    {
     "data": {
      "text/plain": [
       "(113, 20)"
      ]
     },
     "execution_count": 38,
     "metadata": {},
     "output_type": "execute_result"
    }
   ],
   "source": [
    "df_merchandise[df_merchandise.ProductType == 'Mirror'].shape"
   ]
  },
  {
   "cell_type": "code",
   "execution_count": 39,
   "metadata": {},
   "outputs": [
    {
     "data": {
      "text/plain": [
       "(293, 20)"
      ]
     },
     "execution_count": 39,
     "metadata": {},
     "output_type": "execute_result"
    }
   ],
   "source": [
    "df_merchandise[df_merchandise.ProductType == 'Rug'].shape"
   ]
  },
  {
   "cell_type": "code",
   "execution_count": 40,
   "metadata": {
    "scrolled": true
   },
   "outputs": [
    {
     "data": {
      "text/plain": [
       "(13, 20)"
      ]
     },
     "execution_count": 40,
     "metadata": {},
     "output_type": "execute_result"
    }
   ],
   "source": [
    "df_merchandise[df_merchandise.ProductType == 'Painting'].shape"
   ]
  },
  {
   "cell_type": "code",
   "execution_count": 41,
   "metadata": {},
   "outputs": [
    {
     "data": {
      "text/plain": [
       "Table              402\n",
       "End Table          228\n",
       "Coffee Table       111\n",
       "Dining Table       104\n",
       "Sidetable           79\n",
       "Side Table          48\n",
       "Endtable            44\n",
       "Sofatable           38\n",
       "Coffeetable         29\n",
       "Diningtable         23\n",
       "Sofa Table          17\n",
       "Table Set            8\n",
       "Round Table          8\n",
       "Nesting Tables       6\n",
       "Diningtable Set      5\n",
       "Coffetable           4\n",
       "Entry Table          4\n",
       "Table/6 Chairs       4\n",
       "Pub Table            3\n",
       "Diningtable W/8      3\n",
       "Table Lamp           3\n",
       "Table 8 Chairs       3\n",
       "Table 6 Chairs       3\n",
       "Table 4 Chairs       3\n",
       "Cocktail Table       3\n",
       "Dining Table W/      3\n",
       "Glass Table          2\n",
       "Round Sidetable      2\n",
       "Accent Table         2\n",
       "Glass Endtable       2\n",
       "                  ... \n",
       "Red Table            1\n",
       "COFFEE TABLE         1\n",
       "Child Table/cha      1\n",
       "Table W/chairs       1\n",
       "Pubtable             1\n",
       "Gametable Set        1\n",
       "Dining Table/ C      1\n",
       "Glass Top Table      1\n",
       "Table And CHair      1\n",
       "Demi Lune Table      1\n",
       "Table 6/ Chairs      1\n",
       "CART TABLE           1\n",
       "Bisrto Table         1\n",
       "Brass Table Top      1\n",
       "Storage Table        1\n",
       "Dinintable           1\n",
       "Dining Table Ov      1\n",
       "Side Tables          1\n",
       "Glasstop Table       1\n",
       "Table W/ Leaf        1\n",
       "DRAFTING TABLE       1\n",
       "Dinging Table        1\n",
       "Table/chairs         1\n",
       "PFC Table            1\n",
       "Mirror Table         1\n",
       "Table 2 Chairs       1\n",
       "Endtable/tile        1\n",
       "Custom Table         1\n",
       "Kincaid Table W      1\n",
       "Game Table           1\n",
       "Name: ProductType, Length: 99, dtype: int64"
      ]
     },
     "execution_count": 41,
     "metadata": {},
     "output_type": "execute_result"
    }
   ],
   "source": [
    "# Add filter to main replacement cell below\n",
    "table = df_merchandise[df_merchandise.ProductType.str.contains('table', case=False)]\n",
    "table.ProductType.value_counts()"
   ]
  },
  {
   "cell_type": "code",
   "execution_count": 42,
   "metadata": {},
   "outputs": [
    {
     "data": {
      "text/plain": [
       "Chair              1194\n",
       "Chairs               34\n",
       "Dining Chair         12\n",
       "Chair/ottoman        10\n",
       "Chair W/ottoman       7\n",
       "Dinning Chair         6\n",
       "Chair And Ottom       6\n",
       "Chair W/ott           6\n",
       "Table/6 Chairs        4\n",
       "Desk Chair            4\n",
       "Office Chair          4\n",
       "COPPER CHAIR          4\n",
       "Barrel Chair          4\n",
       "Rocking Chair         4\n",
       "Metal Chair           4\n",
       "6 Chairs              3\n",
       "Table 4 Chairs        3\n",
       "Table 6 Chairs        3\n",
       "Table 8 Chairs        3\n",
       "4 Chairs              3\n",
       "DINING CHAIR          3\n",
       "Kai Side Chair        3\n",
       "Swivel Chair          2\n",
       "Arm Chair             2\n",
       "Folding Chair         2\n",
       "Henredon Chair        2\n",
       "Caracole Chair        2\n",
       "Dining Chairs/6       2\n",
       "Side Chair            2\n",
       "Chairs W/ Green       2\n",
       "                   ... \n",
       "French Chair          1\n",
       "Table/4 Chairs        1\n",
       "Set Of 4 Chairs       1\n",
       "Chair W/green S       1\n",
       "Table 6/ Chairs       1\n",
       "Chairs/table          1\n",
       "Table 7/chairs        1\n",
       "Zimmerman Chair       1\n",
       "Chairs Set 4          1\n",
       "Chair W/ Ott          1\n",
       "Table And CHair       1\n",
       "2 Chairs              1\n",
       "Officechair           1\n",
       "5 Chairs              1\n",
       "Table/10 Chairs       1\n",
       "BLACK CHAIR           1\n",
       "Maverick Chair        1\n",
       "Desk/chair            1\n",
       "Table/chairs          1\n",
       "Table W/7Chair        1\n",
       "Chairs Set/6          1\n",
       "RH 2 Chairs/ Ot       1\n",
       "CHair                 1\n",
       "Chairs/ Set Of        1\n",
       "Dinette 4 Chair       1\n",
       "Floral Chair          1\n",
       "Table W/3 Chair       1\n",
       "Chairs Set 6          1\n",
       "Chairs Set/4          1\n",
       "CHAIR                 1\n",
       "Name: ProductType, Length: 99, dtype: int64"
      ]
     },
     "execution_count": 42,
     "metadata": {},
     "output_type": "execute_result"
    }
   ],
   "source": [
    "# Add filter to main replacement cell below\n",
    "chairs = df_merchandise[df_merchandise.ProductType.str.contains('chair', case=False)]\n",
    "chairs.ProductType.value_counts()"
   ]
  },
  {
   "cell_type": "code",
   "execution_count": 43,
   "metadata": {},
   "outputs": [
    {
     "data": {
      "text/plain": [
       "Pillow             313\n",
       "Lamp               269\n",
       "Picture            226\n",
       "Art                220\n",
       "Vase               142\n",
       "Mirror             129\n",
       "Decor              118\n",
       "Rug                 80\n",
       "Free                72\n",
       "Chandelier          72\n",
       "Pewter Figurine     53\n",
       "Plate               46\n",
       "Painting            39\n",
       "Book                37\n",
       "Finial              36\n",
       "Name: ProductDescription, dtype: int64"
      ]
     },
     "execution_count": 43,
     "metadata": {},
     "output_type": "execute_result"
    }
   ],
   "source": [
    "accessories.ProductDescription.value_counts().head(15)"
   ]
  },
  {
   "cell_type": "code",
   "execution_count": 44,
   "metadata": {},
   "outputs": [
    {
     "data": {
      "text/plain": [
       "Accessory    5266\n",
       "Chair        1194\n",
       "Decor         655\n",
       "Table         402\n",
       "None          384\n",
       "Pillow        371\n",
       "Art           365\n",
       "Sofa          296\n",
       "Rug           293\n",
       "End Table     228\n",
       "Name: ProductType, dtype: int64"
      ]
     },
     "execution_count": 44,
     "metadata": {},
     "output_type": "execute_result"
    }
   ],
   "source": [
    "df_merchandise.ProductType.value_counts().head(10)"
   ]
  },
  {
   "cell_type": "code",
   "execution_count": 45,
   "metadata": {},
   "outputs": [],
   "source": [
    "# Replace ProductType values for 'Accessory' that also contain top 20 values of ProductType for the ProductDescription category\n",
    "# Replace values for 'Pillow'\n",
    "pillow_filter = (df_merchandise['ProductType'] == 'Accessory') & (df_merchandise['ProductDescription'] == 'Pillow')\n",
    "df_merchandise.loc[pillow_filter, 'ProductType'] = df_merchandise['ProductDescription']"
   ]
  },
  {
   "cell_type": "code",
   "execution_count": 46,
   "metadata": {},
   "outputs": [
    {
     "data": {
      "text/plain": [
       "Accessory    4953\n",
       "Chair        1194\n",
       "Pillow        684\n",
       "Decor         655\n",
       "Table         402\n",
       "Name: ProductType, dtype: int64"
      ]
     },
     "execution_count": 46,
     "metadata": {},
     "output_type": "execute_result"
    }
   ],
   "source": [
    "# Ensure new values were correctly added to 'Pillow' value counts and deducted from 'Accessory'\n",
    "# 'Pillow' should increase from 371 to 684\n",
    "df_merchandise.ProductType.value_counts().head()"
   ]
  },
  {
   "cell_type": "code",
   "execution_count": 47,
   "metadata": {},
   "outputs": [
    {
     "data": {
      "text/plain": [
       "Pillow     313\n",
       "Lamp       269\n",
       "Picture    226\n",
       "Art        220\n",
       "Vase       142\n",
       "Name: ProductDescription, dtype: int64"
      ]
     },
     "execution_count": 47,
     "metadata": {},
     "output_type": "execute_result"
    }
   ],
   "source": [
    "# Ensure this swap did not affect ProductDescription value counts for 'Pillow'\n",
    "accessories.ProductDescription.value_counts().head()"
   ]
  },
  {
   "cell_type": "code",
   "execution_count": 48,
   "metadata": {},
   "outputs": [
    {
     "data": {
      "text/plain": [
       "(10, 20)"
      ]
     },
     "execution_count": 48,
     "metadata": {},
     "output_type": "execute_result"
    }
   ],
   "source": [
    "# Repeat for chairs\n",
    "chairs = df_merchandise[(df_merchandise['ProductType'] == 'Accessory') & (df_merchandise['ProductDescription'] == 'Chair')]\n",
    "chairs.shape"
   ]
  },
  {
   "cell_type": "code",
   "execution_count": 49,
   "metadata": {},
   "outputs": [],
   "source": [
    "# Repeat for chairs\n",
    "chair_filter = (df_merchandise['ProductType'] == 'Accessory') & (df_merchandise['ProductDescription'] == 'Chair')\n",
    "df_merchandise.loc[chair_filter, 'ProductType'] = df_merchandise['ProductDescription']"
   ]
  },
  {
   "cell_type": "code",
   "execution_count": 50,
   "metadata": {
    "scrolled": true
   },
   "outputs": [
    {
     "data": {
      "text/plain": [
       "Accessory    4943\n",
       "Chair        1204\n",
       "Pillow        684\n",
       "Decor         655\n",
       "Table         402\n",
       "None          384\n",
       "Art           365\n",
       "Sofa          296\n",
       "Rug           293\n",
       "End Table     228\n",
       "Name: ProductType, dtype: int64"
      ]
     },
     "execution_count": 50,
     "metadata": {},
     "output_type": "execute_result"
    }
   ],
   "source": [
    "# Ensure new values were correctly added to 'Pillow' value counts and deducted from 'Accessory'\n",
    "# 'Chair' value should increase from 1194 to 1204\n",
    "df_merchandise.ProductType.value_counts().head(10)"
   ]
  },
  {
   "cell_type": "markdown",
   "metadata": {},
   "source": [
    "Repeat replacement process for other ProductType categories to better distribute values from **both** 'Accessory' and 'None' in ProductTypw that would better fit into other categories."
   ]
  },
  {
   "cell_type": "code",
   "execution_count": 51,
   "metadata": {
    "scrolled": false
   },
   "outputs": [
    {
     "data": {
      "text/plain": [
       "Accessory       2202\n",
       "Decor           1622\n",
       "Chairs          1596\n",
       "Lighting        1132\n",
       "Art             1076\n",
       "Pillow           792\n",
       "Rug              473\n",
       "Table            454\n",
       "Mirror           303\n",
       "Sofa             303\n",
       "Bed              278\n",
       "End Table        228\n",
       "Picture          221\n",
       "Desk             175\n",
       "None             150\n",
       "Coffee Table     111\n",
       "Chest            109\n",
       "Dining Table     104\n",
       "Console           99\n",
       "Free              98\n",
       "Ottoman           93\n",
       "Cabinet           90\n",
       "Book              86\n",
       "Sidetable         79\n",
       "Bench             65\n",
       "Name: ProductType, dtype: int64"
      ]
     },
     "execution_count": 51,
     "metadata": {},
     "output_type": "execute_result"
    }
   ],
   "source": [
    "# Replace values where 'lamp' occurs\n",
    "lamp_filter = ((df_merchandise['ProductType'] == 'Accessory') | (df_merchandise['ProductType'] == 'None')) & (df_merchandise['ProductDescription'].str.contains('lamp', case=False))\n",
    "df_merchandise.loc[lamp_filter, 'ProductType'] = 'Lamp'\n",
    "\n",
    "# Repeat for chairs\n",
    "# Replace values where 'chair' occurs\n",
    "chair_filter = ((df_merchandise['ProductType'] == 'Accessory') | (df_merchandise['ProductType'] == 'None')) & (df_merchandise['ProductDescription'].str.contains('chair', case=False))\n",
    "df_merchandise.loc[chair_filter, 'ProductType'] = 'Chairs'\n",
    "\n",
    "# Repeat for pillows where 'pillow' occurs\n",
    "pillow_filter = ((df_merchandise['ProductType'] == 'Accessory') | (df_merchandise['ProductType'] == 'None')) & (df_merchandise['ProductDescription'].str.contains('pillow', case=False))\n",
    "df_merchandise.loc[pillow_filter, 'ProductType'] = 'Pillow'\n",
    "\n",
    "# Repeat for tables\n",
    "table_filter = ((df_merchandise['ProductType'] == 'Accessory') | (df_merchandise['ProductType'] == 'None')) & ((df_merchandise['ProductDescription'].str.contains('table', case=False)) & ~(df_merchandise['ProductDescription'].str.contains('unforgettable', case=False)))\n",
    "df_merchandise.loc[table_filter, 'ProductType'] = 'Table'\n",
    "\n",
    "# Repeat for art\n",
    "art_filter = ((df_merchandise['ProductType'] == 'Accessory') | (df_merchandise['ProductType'] == 'None')) & (df_merchandise['ProductDescription'].str.contains('art', case=False))\n",
    "df_merchandise.loc[art_filter, 'ProductType'] = 'Art'\n",
    "\n",
    "# Repeat for sofa\n",
    "sofa_filter = ((df_merchandise['ProductType'] == 'Accessory') | (df_merchandise['ProductType'] == 'None')) & (df_merchandise['ProductDescription'].str.contains('sofa', case=False))\n",
    "df_merchandise.loc[sofa_filter, 'ProductType'] = 'Sofa'\n",
    "\n",
    "# Repeat for rug\n",
    "rug_filter = ((df_merchandise['ProductType'] == 'Accessory') | (df_merchandise['ProductType'] == 'None')) & (df_merchandise['ProductDescription'].str.contains('rug', case=False))\n",
    "df_merchandise.loc[rug_filter, 'ProductType'] = 'Rug'\n",
    "\n",
    "# Repeat for pictures as 'Art'\n",
    "picture_filter = ((df_merchandise['ProductType'] == 'Accessory') | (df_merchandise['ProductType'] == 'None')) & (df_merchandise['ProductDescription'].str.contains('picture', case=False))\n",
    "df_merchandise.loc[picture_filter, 'ProductType'] = 'Art'\n",
    "\n",
    "# Repeat for desk\n",
    "desk_filter = ((df_merchandise['ProductType'] == 'Accessory') | (df_merchandise['ProductType'] == 'None')) & (df_merchandise['ProductDescription'].str.contains('desk', case=False))\n",
    "df_merchandise.loc[desk_filter, 'ProductType'] = 'Desk'\n",
    "\n",
    "# Repeat for bed\n",
    "bed_filter = ((df_merchandise['ProductType'] == 'Accessory') | (df_merchandise['ProductType'] == 'None')) & (df_merchandise['ProductDescription'].str.contains('bed', case=False))\n",
    "df_merchandise.loc[bed_filter, 'ProductType'] = 'Bed'\n",
    "\n",
    "# Repeat for chest\n",
    "chest_filter = ((df_merchandise['ProductType'] == 'Accessory') | (df_merchandise['ProductType'] == 'None')) & (df_merchandise['ProductDescription'].str.contains('chest', case=False))\n",
    "df_merchandise.loc[chest_filter, 'ProductType'] = 'Chest'\n",
    "\n",
    "# Repeat for mirror\n",
    "mirror_filter = ((df_merchandise['ProductType'] == 'Accessory') | (df_merchandise['ProductType'] == 'None')) & (df_merchandise['ProductDescription'].str.contains('mirror', case=False))\n",
    "df_merchandise.loc[mirror_filter, 'ProductType'] = 'Mirror'\n",
    "\n",
    "# Repeat for painting as 'Art'\n",
    "painting_filter = ((df_merchandise['ProductType'] == 'Accessory') | (df_merchandise['ProductType'] == 'None')) & (df_merchandise['ProductDescription'].str.contains('painting', case=False))\n",
    "df_merchandise.loc[painting_filter, 'ProductType'] = 'Art'\n",
    "\n",
    "# Repeat for light\n",
    "light_filter = ((df_merchandise['ProductType'] == 'Accessory') | (df_merchandise['ProductType'] == 'None')) & ((df_merchandise['ProductDescription'].str.contains('light', case=False)) & ~(df_merchandise['ProductDescription'].str.contains('sconce', case=False)))\n",
    "df_merchandise.loc[light_filter, 'ProductType'] = 'Light'\n",
    "\n",
    "# Repeat for chandelier, lantern as 'Lighting'\n",
    "chandelier_filter = ((df_merchandise['ProductType'] == 'Accessory') | (df_merchandise['ProductType'] == 'None')) & (((df_merchandise['ProductDescription'].str.contains('chandelier', case=False)))\n",
    "                                                                      | ((df_merchandise['ProductDescription'].str.contains('lantern', case=False))))\n",
    "df_merchandise.loc[chandelier_filter, 'ProductType'] = 'Lighting'\n",
    "\n",
    "# Repeat for clock, vase, book, pewter items, bowl, greenery, tray, cross, urn, plate, decor as 'Decor'\n",
    "decor_filter = ((df_merchandise['ProductType'] == 'Accessory') | (df_merchandise['ProductType'] == 'None')) & (((df_merchandise['ProductDescription'].str.contains('decor', case=False)))\n",
    "                                                                | ((df_merchandise['ProductDescription'].str.contains('clock', case=False)))\n",
    "                                                                | ((df_merchandise['ProductDescription'].str.contains('book', case=False)))\n",
    "                                                                | ((df_merchandise['ProductDescription'].str.contains('pewter', case=False)))\n",
    "                                                                | ((df_merchandise['ProductDescription'].str.contains('bowl', case=False)))\n",
    "                                                                | ((df_merchandise['ProductDescription'].str.contains('greenery', case=False)))\n",
    "                                                                | ((df_merchandise['ProductDescription'].str.contains('tray', case=False)))\n",
    "                                                                | ((df_merchandise['ProductDescription'].str.contains('cross', case=False)))\n",
    "                                                                | ((df_merchandise['ProductDescription'].str.contains('urn', case=False)))\n",
    "                                                                | ((df_merchandise['ProductDescription'].str.contains('plate', case=False)))\n",
    "                                                                | ((df_merchandise['ProductDescription'].str.contains('vase', case=False))))\n",
    "df_merchandise.loc[decor_filter, 'ProductType'] = 'Decor'\n",
    "\n",
    "# Repeat for free\n",
    "free_filter = ((df_merchandise['ProductType'] == 'Accessory') | (df_merchandise['ProductType'] == 'None')) & ((df_merchandise['ProductDescription'].str.contains('free', case=False)))\n",
    "df_merchandise.loc[free_filter, 'ProductType'] = 'Free'\n",
    "\n",
    "# Repeat for lamp, light as 'Lighting' to consolidate\n",
    "lighting_filter = (df_merchandise['ProductType'] == 'Lamp') | (df_merchandise['ProductType'] == 'Light')\n",
    "df_merchandise.loc[lighting_filter, 'ProductType'] = 'Lighting'\n",
    "\n",
    "# Repeat for Chandelier as 'Lighting' to consolidate\n",
    "pt_chandelier_filter = (df_merchandise['ProductType'] == 'Chandelier')\n",
    "df_merchandise.loc[pt_chandelier_filter, 'ProductType'] = 'Lighting'\n",
    "\n",
    "# Repeat for sleeper as 'Sofa'\n",
    "none_sleeper_filter = (df_merchandise['ProductType'] == 'None') & ((df_merchandise['ProductDescription'].str.contains('sleeper', case=False)))\n",
    "df_merchandise.loc[none_sleeper_filter, 'ProductType'] = 'Sofa'\n",
    "\n",
    "# Repeat for hardware, finials, rods as 'Accessory'\n",
    "none_hw_filter = (df_merchandise['ProductType'] == 'None') & ((df_merchandise['ProductDescription'].str.contains('hardware', case=False))\n",
    "                                                             |(df_merchandise['ProductDescription'].str.contains('finial', case=False))\n",
    "                                                             |(df_merchandise['ProductDescription'].str.contains('rod', case=False)))\n",
    "df_merchandise.loc[none_hw_filter, 'ProductType'] = 'Accessory'\n",
    "\n",
    "# Repeat for all values of 'bed' into 'Bed' category\n",
    "all_bed_filter = df_merchandise.ProductType.str.contains('bed', case=False)\n",
    "df_merchandise.loc[all_bed_filter, 'ProductType'] = 'Bed'\n",
    "\n",
    "# Repeat for all values of 'chair','barstool' into 'Chair' category in PT to consolidate\n",
    "# contains 'dining chairs', 'sofa chair', 'side chair', etc.\n",
    "mass_chair_filter = (df_merchandise.ProductType.str.contains('chair', case=False)) | (df_merchandise.ProductType.str.contains('barstool', case=False))\n",
    "df_merchandise.loc[mass_chair_filter, 'ProductType'] = 'Chairs'\n",
    "\n",
    "df_merchandise.ProductType.value_counts().head(25)"
   ]
  },
  {
   "cell_type": "code",
   "execution_count": null,
   "metadata": {},
   "outputs": [],
   "source": []
  }
 ],
 "metadata": {
  "kernelspec": {
   "display_name": "Python 3",
   "language": "python",
   "name": "python3"
  },
  "language_info": {
   "codemirror_mode": {
    "name": "ipython",
    "version": 3
   },
   "file_extension": ".py",
   "mimetype": "text/x-python",
   "name": "python",
   "nbconvert_exporter": "python",
   "pygments_lexer": "ipython3",
   "version": "3.7.0"
  }
 },
 "nbformat": 4,
 "nbformat_minor": 2
}
